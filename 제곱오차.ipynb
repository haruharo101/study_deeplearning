{
  "nbformat": 4,
  "nbformat_minor": 0,
  "metadata": {
    "colab": {
      "name": "제곱오차.ipynb",
      "provenance": [],
      "collapsed_sections": [],
      "authorship_tag": "ABX9TyMuS+U8EEwF+HpoPZs8J/AY"
    },
    "kernelspec": {
      "name": "python3",
      "display_name": "Python 3"
    },
    "language_info": {
      "name": "python"
    }
  },
  "cells": [
    {
      "cell_type": "code",
      "execution_count": 1,
      "metadata": {
        "id": "lJ9CWuvfLu6t"
      },
      "outputs": [],
      "source": [
        "from sklearn.datasets import load_diabetes\n",
        "import matplotlib.pyplot as plt\n",
        "diabetes = load_diabetes()\n",
        "x = diabetes.data[:, 2]\n",
        "y = diabetes.target"
      ]
    },
    {
      "cell_type": "code",
      "source": [
        "#Squared error = SE = (y-y_hat)^2\n",
        "#dSE/dw = -2x*(y-y_hat)\n",
        "\n",
        "w = 1.0\n",
        "b = 1.0\n",
        "\n",
        "for i in range(1000):\n",
        "  for x_i, y_i in zip(x, y):\n",
        "    y_hat = x_i * w + b\n",
        "    err = y_i - y_hat\n",
        "    w_rate = x_i\n",
        "    b = b + 1 * err\n",
        "    w = w + w_rate * err\n",
        "print(w, b)\n"
      ],
      "metadata": {
        "colab": {
          "base_uri": "https://localhost:8080/"
        },
        "id": "ZCvtTadcL7EN",
        "outputId": "7dd2c071-941f-4c30-9aff-592d18f00651"
      },
      "execution_count": 4,
      "outputs": [
        {
          "output_type": "stream",
          "name": "stdout",
          "text": [
            "913.5973364345905 123.39414383177204\n"
          ]
        }
      ]
    }
  ]
}